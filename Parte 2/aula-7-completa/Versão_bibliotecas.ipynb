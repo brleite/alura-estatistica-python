{
  "cells": [
    {
      "cell_type": "code",
      "execution_count": 1,
      "metadata": {
        "colab": {
          "base_uri": "https://localhost:8080/",
          "height": 85
        },
        "colab_type": "code",
        "id": "kffSOYcgir5Q",
        "outputId": "50032805-bedc-4165-d643-22a32105367e"
      },
      "outputs": [
        {
          "name": "stdout",
          "output_type": "stream",
          "text": [
            "Versão do pandas -> 1.3.0\n",
            "Versão do numpy -> 1.21.1\n",
            "Versão do scipy -> 1.6.2\n",
            "Versão do matplotlib -> 3.3.4\n"
          ]
        }
      ],
      "source": [
        "import pandas, numpy, scipy, matplotlib\n",
        "\n",
        "print('Versão do pandas -> %s' % pandas.__version__)\n",
        "print('Versão do numpy -> %s' % numpy.__version__)\n",
        "print('Versão do scipy -> %s' % scipy.__version__)\n",
        "print('Versão do matplotlib -> %s' % matplotlib.__version__)"
      ]
    },
    {
      "cell_type": "code",
      "execution_count": null,
      "metadata": {
        "colab": {},
        "colab_type": "code",
        "id": "bcAPEvyqjJCx"
      },
      "outputs": [],
      "source": []
    }
  ],
  "metadata": {
    "colab": {
      "name": "Untitled6.ipynb",
      "provenance": [],
      "version": "0.3.2"
    },
    "interpreter": {
      "hash": "4a0c1b8dacabfa02154ee0c994cbd7ccf7f19e19cb46f1ae7009d1f22de71e32"
    },
    "kernelspec": {
      "display_name": "Python 3.8.10 64-bit ('Open CV 4': conda)",
      "name": "python3"
    },
    "language_info": {
      "codemirror_mode": {
        "name": "ipython",
        "version": 3
      },
      "file_extension": ".py",
      "mimetype": "text/x-python",
      "name": "python",
      "nbconvert_exporter": "python",
      "pygments_lexer": "ipython3",
      "version": "3.8.10"
    }
  },
  "nbformat": 4,
  "nbformat_minor": 0
}
